{
 "cells": [
  {
   "cell_type": "code",
   "execution_count": 1,
   "id": "0db0d8ce-2821-475d-bf9c-c565fd14aa26",
   "metadata": {},
   "outputs": [
    {
     "name": "stdout",
     "output_type": "stream",
     "text": [
      "Collecting PyPDF2\n",
      "  Downloading PyPDF2-2.10.8-py3-none-any.whl (217 kB)\n",
      "Requirement already satisfied: typing-extensions>=3.10.0.0 in c:\\users\\diaraye\\anaconda3b\\lib\\site-packages (from PyPDF2) (4.1.1)\n",
      "Installing collected packages: PyPDF2\n",
      "Successfully installed PyPDF2-2.10.8\n",
      "Note: you may need to restart the kernel to use updated packages.\n"
     ]
    }
   ],
   "source": [
    "pip install PyPDF2"
   ]
  },
  {
   "cell_type": "code",
   "execution_count": 2,
   "id": "6684d877-3c91-4c2d-95c7-661c31afd1c0",
   "metadata": {},
   "outputs": [],
   "source": [
    "import PyPDF2"
   ]
  },
  {
   "cell_type": "code",
   "execution_count": 4,
   "id": "4bfece34-9dfe-44d5-835e-b96cee9771a4",
   "metadata": {},
   "outputs": [],
   "source": [
    "# pdfFileObj = open(\"C:\\Users\\Diaraye\\Downloads\\Sermons 09-2022 -FR.pdf\", 'rb')"
   ]
  },
  {
   "cell_type": "code",
   "execution_count": 6,
   "id": "8d1c24ba-173b-4cea-ad64-c90ad6602116",
   "metadata": {},
   "outputs": [],
   "source": [
    "# PyPDF2.PdfFileReader(open(\"C:\\Users\\Diaraye\\Downloads\\Les innovateurs ( PDFDrive ).pdf\", 'rb'))"
   ]
  },
  {
   "cell_type": "code",
   "execution_count": 7,
   "id": "6d61f713-4149-404b-a1d6-e1c93ba738c1",
   "metadata": {},
   "outputs": [],
   "source": [
    "# pdfReader = PyPDF2.PdfFileReader(pdfFileObj)\n",
    "# pdfReader.numPages\n",
    "\n",
    "# pageObj = pdfReader.getPage(0)\n",
    "# pageObj.extractText()"
   ]
  },
  {
   "cell_type": "code",
   "execution_count": null,
   "id": "d23bea89-92a2-4357-b7eb-48d03a8ceed0",
   "metadata": {},
   "outputs": [],
   "source": []
  }
 ],
 "metadata": {
  "kernelspec": {
   "display_name": "Python 3 (ipykernel)",
   "language": "python",
   "name": "python3"
  },
  "language_info": {
   "codemirror_mode": {
    "name": "ipython",
    "version": 3
   },
   "file_extension": ".py",
   "mimetype": "text/x-python",
   "name": "python",
   "nbconvert_exporter": "python",
   "pygments_lexer": "ipython3",
   "version": "3.9.12"
  }
 },
 "nbformat": 4,
 "nbformat_minor": 5
}
