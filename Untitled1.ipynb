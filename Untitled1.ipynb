{
 "cells": [
  {
   "cell_type": "code",
   "execution_count": 2,
   "id": "84c5b268-a937-4a14-acfb-d514073a500b",
   "metadata": {},
   "outputs": [
    {
     "name": "stdout",
     "output_type": "stream",
     "text": [
      "Collecting habaneroNote: you may need to restart the kernel to use updated packages.\n",
      "  Downloading habanero-1.2.2-py3-none-any.whl (29 kB)\n",
      "Requirement already satisfied: tqdm in c:\\users\\diaraye\\anaconda3b\\lib\\site-packages (from habanero) (4.64.0)\n",
      "Requirement already satisfied: requests>=2.7.0 in c:\\users\\diaraye\\anaconda3b\\lib\\site-packages (from habanero) (2.27.1)\n",
      "Requirement already satisfied: charset-normalizer~=2.0.0 in c:\\users\\diaraye\\anaconda3b\\lib\\site-packages (from requests>=2.7.0->habanero) (2.0.4)\n",
      "Requirement already satisfied: certifi>=2017.4.17 in c:\\users\\diaraye\\anaconda3b\\lib\\site-packages (from requests>=2.7.0->habanero) (2021.10.8)\n",
      "Requirement already satisfied: idna<4,>=2.5 in c:\\users\\diaraye\\anaconda3b\\lib\\site-packages (from requests>=2.7.0->habanero) (3.3)\n",
      "Requirement already satisfied: urllib3<1.27,>=1.21.1 in c:\\users\\diaraye\\anaconda3b\\lib\\site-packages (from requests>=2.7.0->habanero) (1.26.9)\n",
      "Requirement already satisfied: colorama in c:\\users\\diaraye\\anaconda3b\\lib\\site-packages (from tqdm->habanero) (0.4.4)\n",
      "Installing collected packages: habanero\n",
      "Successfully installed habanero-1.2.2\n",
      "\n"
     ]
    }
   ],
   "source": [
    "pip install habanero"
   ]
  },
  {
   "cell_type": "code",
   "execution_count": 6,
   "id": "2a66afb4-5a81-4a75-92c0-eacbd01508d2",
   "metadata": {},
   "outputs": [],
   "source": [
    "from habanero import Crossref\n",
    "cr = Crossref()"
   ]
  },
  {
   "cell_type": "code",
   "execution_count": 11,
   "id": "b14e1621-54c8-4443-8626-f7fffd059489",
   "metadata": {},
   "outputs": [
    {
     "data": {
      "text/plain": [
       "'Impact of UrbanWastewater on Biodiversity of Aquatic Ecosystems'"
      ]
     },
     "execution_count": 11,
     "metadata": {},
     "output_type": "execute_result"
    }
   ],
   "source": [
    "\"Impact of UrbanWastewater on Biodiversity of Aquatic Ecosystems\""
   ]
  },
  {
   "cell_type": "code",
   "execution_count": 24,
   "id": "e566a7b7-c0bf-4c03-a0fd-f167a2082dd7",
   "metadata": {},
   "outputs": [],
   "source": [
    "from habanero import Crossref\n",
    "cr = Crossref()\n",
    "cr.filter_details()\n",
    "cr.filter_details(\"members\")\n",
    "cr.filter_details(\"funders\")\n",
    "# Get descriptions for each filter\n",
    "x = cr.filter_details()\n",
    "# [ z['description'] for z in x.values() ]"
   ]
  },
  {
   "cell_type": "code",
   "execution_count": 21,
   "id": "72ba3c57-bddb-464a-8af4-e1e384899351",
   "metadata": {},
   "outputs": [
    {
     "data": {
      "text/plain": [
       "[['Construction of a reference material panel for detecting <i>KRAS</i>/<i>NRAS</i>/<i>EGFR</i>/<i>BRAF</i>/<i>MET</i> mutations in plasma ctDNA'],\n",
       " ['Phase II study of lenvatinib for metastatic colorectal cancer refractory to standard chemotherapy: the LEMON study (NCCH1503)']]"
      ]
     },
     "execution_count": 21,
     "metadata": {},
     "output_type": "execute_result"
    }
   ],
   "source": [
    "from habanero import Crossref, WorksContainer\n",
    "cr = Crossref()\n",
    "\n",
    "res = cr.works(ids=['10.1136/jclinpath-2020-206745', '10.1136/esmoopen-2020-000776'])\n",
    "x = WorksContainer(res)\n",
    "x\n",
    "x.works\n",
    "x.doi\n",
    "x.license\n",
    "x.title\n",
    "# x.abstract"
   ]
  },
  {
   "cell_type": "code",
   "execution_count": 25,
   "id": "0034c100-c88e-4d34-b2ed-602c27ed0c08",
   "metadata": {},
   "outputs": [],
   "source": [
    "z=cr.works(title=\"Impact of UrbanWastewater on Biodiversity of Aquatic Ecosystems\")"
   ]
  },
  {
   "cell_type": "code",
   "execution_count": 50,
   "id": "5ea09412-a623-4f3b-a09e-a608276d3167",
   "metadata": {},
   "outputs": [
    {
     "data": {
      "text/plain": [
       "dict_keys(['indexed', 'reference-count', 'publisher', 'issue', 'license', 'content-domain', 'short-container-title', 'published-print', 'DOI', 'type', 'created', 'page', 'source', 'is-referenced-by-count', 'title', 'prefix', 'volume', 'author', 'member', 'reference', 'container-title', 'link', 'deposited', 'score', 'resource', 'issued', 'references-count', 'journal-issue', 'URL', 'ISSN', 'issn-type', 'subject', 'published'])"
      ]
     },
     "execution_count": 50,
     "metadata": {},
     "output_type": "execute_result"
    }
   ],
   "source": [
    "z['message']['items'][0].keys()"
   ]
  },
  {
   "cell_type": "code",
   "execution_count": 52,
   "id": "45a1d0ba-5c5a-4f13-9ebf-07e7f9a8191e",
   "metadata": {},
   "outputs": [
    {
     "data": {
      "text/plain": [
       "'10.1109/32.729691'"
      ]
     },
     "execution_count": 52,
     "metadata": {},
     "output_type": "execute_result"
    }
   ],
   "source": [
    "z['message']['items'][0]['DOI']"
   ]
  },
  {
   "cell_type": "code",
   "execution_count": 55,
   "id": "7235156c-79b9-4acd-84dd-e2d589d929f2",
   "metadata": {},
   "outputs": [],
   "source": [
    "# pip install scholarly"
   ]
  },
  {
   "cell_type": "code",
   "execution_count": 56,
   "id": "65ea822b-8f4d-431b-89bd-1807a53f034f",
   "metadata": {},
   "outputs": [],
   "source": [
    "from scholarly import scholarly\n",
    "\n",
    "# Retrieve the author's data, fill-in, and print\n",
    "# Get an iterator for the author results\n",
    "search_query = scholarly.search_author('Raulin Cadet')"
   ]
  },
  {
   "cell_type": "code",
   "execution_count": 59,
   "id": "6ff8a993-9988-420f-9592-377e5284daf3",
   "metadata": {},
   "outputs": [
    {
     "data": {
      "text/plain": [
       "[{'container_type': 'Author',\n",
       "  'filled': [],\n",
       "  'source': <AuthorSource.SEARCH_AUTHOR_SNIPPETS: 'SEARCH_AUTHOR_SNIPPETS'>,\n",
       "  'scholar_id': 'S1_vu8EAAAAJ',\n",
       "  'url_picture': 'https://scholar.google.com/citations?view_op=medium_photo&user=S1_vu8EAAAAJ',\n",
       "  'name': 'Raulin Lincifort Cadet',\n",
       "  'affiliation': 'Université Quisqueya',\n",
       "  'email_domain': '@uniq.edu.ht',\n",
       "  'interests': ['Banking', 'Microfinance', 'Monetary Policy'],\n",
       "  'citedby': 64}]"
      ]
     },
     "execution_count": 59,
     "metadata": {},
     "output_type": "execute_result"
    }
   ],
   "source": [
    "[i for i in search_query]"
   ]
  },
  {
   "cell_type": "code",
   "execution_count": 69,
   "id": "9e8cbe55-72f7-4ee5-b202-90593ecefade",
   "metadata": {},
   "outputs": [
    {
     "data": {
      "text/plain": [
       "['container_type',\n",
       " 'filled',\n",
       " 'scholar_id',\n",
       " 'source',\n",
       " 'name',\n",
       " 'url_picture',\n",
       " 'affiliation',\n",
       " 'interests',\n",
       " 'email_domain',\n",
       " 'homepage',\n",
       " 'citedby']"
      ]
     },
     "execution_count": 69,
     "metadata": {},
     "output_type": "execute_result"
    }
   ],
   "source": [
    "[i for i in scholarly.search_author_id('iTdDn2cAAAAJ')]"
   ]
  },
  {
   "cell_type": "code",
   "execution_count": 70,
   "id": "da93dd1b-e7f6-4137-8693-0a494aed8f74",
   "metadata": {},
   "outputs": [
    {
     "data": {
      "text/plain": [
       "{'container_type': 'Author',\n",
       " 'filled': ['basics'],\n",
       " 'scholar_id': 'iTdDn2cAAAAJ',\n",
       " 'source': <AuthorSource.AUTHOR_PROFILE_PAGE: 'AUTHOR_PROFILE_PAGE'>,\n",
       " 'name': 'Evens Emmanuel',\n",
       " 'url_picture': 'https://scholar.googleusercontent.com/citations?view_op=view_photo&user=iTdDn2cAAAAJ&citpid=2',\n",
       " 'affiliation': 'Full Professor, Université Quisqueya, Port-au-Prince, Haiti',\n",
       " 'interests': ['Health Risk Assessment',\n",
       "  'Ecological Risk Assessment',\n",
       "  'Medical Geology',\n",
       "  'Ecohydrology',\n",
       "  'Climate change'],\n",
       " 'email_domain': '@uniq.edu',\n",
       " 'homepage': 'https://www.researchgate.net/profile/Evens_Emmanuel',\n",
       " 'citedby': 2518}"
      ]
     },
     "execution_count": 70,
     "metadata": {},
     "output_type": "execute_result"
    }
   ],
   "source": [
    "scholarly.search_author_id('iTdDn2cAAAAJ')"
   ]
  },
  {
   "cell_type": "code",
   "execution_count": 74,
   "id": "d719fb2a-1097-44ba-a853-6b0b22ab9021",
   "metadata": {},
   "outputs": [
    {
     "name": "stdout",
     "output_type": "stream",
     "text": [
      "b'{\\'affiliation\\': \\'Universit\\xc3\\xa9 Quisqueya\\',\\n \\'citedby\\': 64,\\n \\'email_domain\\': \\'@uniq.edu.ht\\',\\n \\'filled\\': False,\\n \\'interests\\': [\\'Banking\\', \\'Microfinance\\', \\'Monetary Policy\\'],\\n \\'name\\': \\'Raulin Lincifort Cadet\\',\\n \\'publications\\': [{\\'author_pub_id\\': \\'S1_vu8EAAAAJ:u5HHmVD_uO8C\\',\\n                   \\'bib\\': {\\'citation\\': \\'Journal of financial Economic policy, \\'\\n                                       \\'2009\\',\\n                           \\'pub_year\\': \\'2009\\',\\n                           \\'title\\': \\'A theory of linkage between monetary \\'\\n                                    \\'policy and banking failure in developing \\'\\n                                    \\'countries\\'},\\n                   \\'citedby_url\\': \\'https://scholar.google.com/scholar?oi=bibs&hl=en&cites=9613500936658885309\\',\\n                   \\'cites_id\\': [\\'9613500936658885309\\'],\\n                   \\'filled\\': False,\\n                   \\'num_citations\\': 11,\\n                   \\'source\\': \\'AUTHOR_PUBLICATION_ENTRY\\'},\\n                  {\\'author_pub_id\\': \\'S1_vu8EAAAAJ:_FxGoFyzp5QC\\',\\n                   \\'bib\\': {\\'citation\\': \\'\\',\\n                           \\'pub_year\\': \\'2020\\',\\n                           \\'title\\': \\'Measuring the scientific productivity of \\'\\n                                    \\'UniQ researchers on ResearchGate (April \\'\\n                                    \\'21, 2020). Report number: RG-report-004. \\'\\n                                    \\'Port-au-Prince: Universit\\xc3\\xa9 Quisqueya\\'},\\n                   \\'citedby_url\\': \\'https://scholar.google.com/scholar?oi=bibs&hl=en&cites=12749802965459026838\\',\\n                   \\'cites_id\\': [\\'12749802965459026838\\'],\\n                   \\'filled\\': False,\\n                   \\'num_citations\\': 10,\\n                   \\'source\\': \\'AUTHOR_PUBLICATION_ENTRY\\'},\\n                  {\\'author_pub_id\\': \\'S1_vu8EAAAAJ:ufrVoPGSRksC\\',\\n                   \\'bib\\': {\\'citation\\': \\'\\',\\n                           \\'pub_year\\': \\'2020\\',\\n                           \\'title\\': \\'Measuring the scientific productivity of \\'\\n                                    \\'UniQ researchers on ResearchGate \\'\\n                                    \\'(February 18, 2020). Report number: \\'\\n                                    \\'RG-report-002. Port-au-Prince: Universit\\xc3\\xa9 \\'\\n                                    \\'Quisqueya\\'},\\n                   \\'citedby_url\\': \\'https://scholar.google.com/scholar?oi=bibs&hl=en&cites=10823937406639889089\\',\\n                   \\'cites_id\\': [\\'10823937406639889089\\'],\\n                   \\'filled\\': False,\\n                   \\'num_citations\\': 10,\\n                   \\'source\\': \\'AUTHOR_PUBLICATION_ENTRY\\'},\\n                  {\\'author_pub_id\\': \\'S1_vu8EAAAAJ:eQOLeE2rZwMC\\',\\n                   \\'bib\\': {\\'citation\\': \\'Report number: RG-report-003. \\'\\n                                       \\'Port-au-Prince: Universit\\xc3\\xa9 Quisqueya \\'\\n                                       \\'https \\xe2\\x80\\xa6, 2020\\',\\n                           \\'pub_year\\': \\'2020\\',\\n                           \\'title\\': \\'Measuring the scientific productivity of \\'\\n                                    \\'UniQ researchers on ResearchGate (March \\'\\n                                    \\'17, 2020)\\'},\\n                   \\'citedby_url\\': \\'https://scholar.google.com/scholar?oi=bibs&hl=en&cites=2525451224650243986\\',\\n                   \\'cites_id\\': [\\'2525451224650243986\\'],\\n                   \\'filled\\': False,\\n                   \\'num_citations\\': 9,\\n                   \\'source\\': \\'AUTHOR_PUBLICATION_ENTRY\\'},\\n                  {\\'author_pub_id\\': \\'S1_vu8EAAAAJ:WF5omc3nYNoC\\',\\n                   \\'bib\\': {\\'citation\\': \\'\\',\\n                           \\'pub_year\\': \\'2020\\',\\n                           \\'title\\': \\'Measuring the scientific productivity of \\'\\n                                    \\'UniQ researchers on ResearchGate (January \\'\\n                                    \\'21, 2020. Report number: RG-report-001. \\'\\n                                    \\'Port-au-Prince: Universit\\xc3\\xa9 Quisqueya\\'},\\n                   \\'citedby_url\\': \\'https://scholar.google.com/scholar?oi=bibs&hl=en&cites=2670176819511107308\\',\\n                   \\'cites_id\\': [\\'2670176819511107308\\'],\\n                   \\'filled\\': False,\\n                   \\'num_citations\\': 8,\\n                   \\'source\\': \\'AUTHOR_PUBLICATION_ENTRY\\'},\\n                  {\\'author_pub_id\\': \\'S1_vu8EAAAAJ:UeHWp8X0CEIC\\',\\n                   \\'bib\\': {\\'citation\\': \\'International Journal of Banking, \\'\\n                                       \\'Accounting and Finance 6 (1), 37-52, \\'\\n                                       \\'2015\\',\\n                           \\'pub_year\\': \\'2015\\',\\n                           \\'title\\': \\'Cost and profit efficiency of banks in \\'\\n                                    \\'Haiti: do domestic banks perform better \\'\\n                                    \\'than foreign banks?\\'},\\n                   \\'citedby_url\\': \\'https://scholar.google.com/scholar?oi=bibs&hl=en&cites=1536063209138124785\\',\\n                   \\'cites_id\\': [\\'1536063209138124785\\'],\\n                   \\'filled\\': False,\\n                   \\'num_citations\\': 6,\\n                   \\'source\\': \\'AUTHOR_PUBLICATION_ENTRY\\'},\\n                  {\\'author_pub_id\\': \\'S1_vu8EAAAAJ:u-x6o8ySG0sC\\',\\n                   \\'bib\\': {\\'citation\\': \\'\\',\\n                           \\'pub_year\\': \\'2008\\',\\n                           \\'title\\': \\'Cost and profit efficiency of banks in \\'\\n                                    \\'Haiti: do domestic banks perform better \\'\\n                                    \\'than foreign banks?\\'},\\n                   \\'citedby_url\\': \\'https://scholar.google.com/scholar?oi=bibs&hl=en&cites=11008379607328493337\\',\\n                   \\'cites_id\\': [\\'11008379607328493337\\'],\\n                   \\'filled\\': False,\\n                   \\'num_citations\\': 5,\\n                   \\'source\\': \\'AUTHOR_PUBLICATION_ENTRY\\'},\\n                  {\\'author_pub_id\\': \\'S1_vu8EAAAAJ:d1gkVwhDpl0C\\',\\n                   \\'bib\\': {\\'citation\\': \\'Universit\\xc3\\xa9 Rennes 1, 2009\\',\\n                           \\'pub_year\\': \\'2009\\',\\n                           \\'title\\': \"L\\'impact de la politique mon\\xc3\\xa9taire sur la \"\\n                                    \\'d\\xc3\\xa9faillance bancaire dans les pays en \\'\\n                                    \"d\\xc3\\xa9veloppement: le cas d\\'Ha\\xc3\\xafti\"},\\n                   \\'citedby_url\\': \\'https://scholar.google.com/scholar?oi=bibs&hl=en&cites=5424740350303136947\\',\\n                   \\'cites_id\\': [\\'5424740350303136947\\'],\\n                   \\'filled\\': False,\\n                   \\'num_citations\\': 2,\\n                   \\'source\\': \\'AUTHOR_PUBLICATION_ENTRY\\'},\\n                  {\\'author_pub_id\\': \\'S1_vu8EAAAAJ:hqOjcs7Dif8C\\',\\n                   \\'bib\\': {\\'citation\\': \\'Journal of Enterprising Culture 29 \\'\\n                                       \\'(03), 249-272, 2021\\',\\n                           \\'pub_year\\': \\'2021\\',\\n                           \\'title\\': \\'Business Creation Among Participants in \\'\\n                                    \\'Entrepreneurship Education Programs: A \\'\\n                                    \\'Case Study Among University-Level \\'\\n                                    \\'Participants in a Context of Adverse \\'\\n                                    \\'Business Environment\\'},\\n                   \\'citedby_url\\': \\'https://scholar.google.com/scholar?oi=bibs&hl=en&cites=16520128621976618648\\',\\n                   \\'cites_id\\': [\\'16520128621976618648\\'],\\n                   \\'filled\\': False,\\n                   \\'num_citations\\': 1,\\n                   \\'source\\': \\'AUTHOR_PUBLICATION_ENTRY\\'},\\n                  {\\'author_pub_id\\': \\'S1_vu8EAAAAJ:2osOgNQ5qMEC\\',\\n                   \\'bib\\': {\\'citation\\': \\'S\\xc3\\xa9minaire Interne du CREM-UMR6211, \\'\\n                                       \\'2013\\',\\n                           \\'pub_year\\': \\'2013\\',\\n                           \\'title\\': \\'Microfinance in Haiti: Do the Poorest \\'\\n                                    \\'have Access to Credit?\\'},\\n                   \\'citedby_url\\': \\'https://scholar.google.com/scholar?oi=bibs&hl=en&cites=16473018944450468407\\',\\n                   \\'cites_id\\': [\\'16473018944450468407\\'],\\n                   \\'filled\\': False,\\n                   \\'num_citations\\': 1,\\n                   \\'source\\': \\'AUTHOR_PUBLICATION_ENTRY\\'},\\n                  {\\'author_pub_id\\': \\'S1_vu8EAAAAJ:9yKSN-GCB0IC\\',\\n                   \\'bib\\': {\\'citation\\': \\'\\',\\n                           \\'pub_year\\': \\'2004\\',\\n                           \\'title\\': \\'La reforme de la r\\xc3\\xa9gulation prudentielle \\'\\n                                    \\'et de la supervision bancaire en Ha\\xc3\\xafti: \\'\\n                                    \\'un transfert de savoir-faire\\'},\\n                   \\'citedby_url\\': \\'https://scholar.google.com/scholar?oi=bibs&hl=en&cites=13608385155401093520\\',\\n                   \\'cites_id\\': [\\'13608385155401093520\\'],\\n                   \\'filled\\': False,\\n                   \\'num_citations\\': 1,\\n                   \\'source\\': \\'AUTHOR_PUBLICATION_ENTRY\\'},\\n                  {\\'author_pub_id\\': \\'S1_vu8EAAAAJ:Se3iqnhoufwC\\',\\n                   \\'bib\\': {\\'citation\\': \\'Hospitality, Tourism and Marketing \\'\\n                                       \\'Studies, 33, 2022\\',\\n                           \\'pub_year\\': \\'2022\\',\\n                           \\'title\\': \\'\\xe2\\x80\\x98Tap-Tap\\xe2\\x80\\x99: A Journey through Haiti, and \\'\\n                                    \\'an Original Form of Destination \\'\\n                                    \\'Narrative\\'},\\n                   \\'filled\\': False,\\n                   \\'num_citations\\': 0,\\n                   \\'source\\': \\'AUTHOR_PUBLICATION_ENTRY\\'},\\n                  {\\'author_pub_id\\': \\'S1_vu8EAAAAJ:UebtZRa9Y70C\\',\\n                   \\'bib\\': {\\'citation\\': \\'\\',\\n                           \\'pub_year\\': \\'2021\\',\\n                           \\'title\\': \\'Acc\\xc3\\xa8s aux biens et Services en \\'\\n                                    \\'Ha\\xc3\\xafti-Banque et D\\xc3\\xa9veloppement\\'},\\n                   \\'filled\\': False,\\n                   \\'num_citations\\': 0,\\n                   \\'source\\': \\'AUTHOR_PUBLICATION_ENTRY\\'},\\n                  {\\'author_pub_id\\': \\'S1_vu8EAAAAJ:YsMSGLbcyi4C\\',\\n                   \\'bib\\': {\\'citation\\': \\'CORPUHA (Conf\\xc3\\xa9rence des Recteurs, \\'\\n                                       \\'Pr\\xc3\\xa9sidents et Dirigeants d\\xe2\\x80\\x99Universit\\xc3\\xa9s \\'\\n                                       \\'et \\xe2\\x80\\xa6, 2020\\',\\n                           \\'pub_year\\': \\'2020\\',\\n                           \\'title\\': \\'\\xc3\\x89TAT DES LIEUX DE LA RECHERCHE AU SEIN \\'\\n                                    \\'DES IES\\'},\\n                   \\'filled\\': False,\\n                   \\'num_citations\\': 0,\\n                   \\'source\\': \\'AUTHOR_PUBLICATION_ENTRY\\'},\\n                  {\\'author_pub_id\\': \\'S1_vu8EAAAAJ:IjCSPb-OGe4C\\',\\n                   \\'bib\\': {\\'citation\\': \\'\\',\\n                           \\'pub_year\\': \\'2018\\',\\n                           \\'title\\': \\'Forecasting Consumer Price Index in Haiti \\'\\n                                    \\'using Google Trends\\'},\\n                   \\'filled\\': False,\\n                   \\'num_citations\\': 0,\\n                   \\'source\\': \\'AUTHOR_PUBLICATION_ENTRY\\'},\\n                  {\\'author_pub_id\\': \\'S1_vu8EAAAAJ:Y0pCki6q_DkC\\',\\n                   \\'bib\\': {\\'citation\\': \"Presses de l\\'Universit\\xc3\\xa9 Quisqueya, \"\\n                                       \\'2018\\',\\n                           \\'pub_year\\': \\'2018\\',\\n                           \\'title\\': \\'La mise en commun des activit\\xc3\\xa9s de \\'\\n                                    \\'recherche en \\xc3\\x89conomie, \\xc3\\x89ducation et \\'\\n                                    \\'\\xc3\\x89tudes Urbaines de l\\xe2\\x80\\x99Universit\\xc3\\xa9 \\'\\n                                    \\'Quisqueya\\'},\\n                   \\'filled\\': False,\\n                   \\'num_citations\\': 0,\\n                   \\'source\\': \\'AUTHOR_PUBLICATION_ENTRY\\'},\\n                  {\\'author_pub_id\\': \\'S1_vu8EAAAAJ:W7OEmFMy1HYC\\',\\n                   \\'bib\\': {\\'citation\\': \\'\\',\\n                           \\'pub_year\\': \\'2010\\',\\n                           \\'title\\': \\'D\\xc3\\xa9terminants de la D\\xc3\\xa9faillance Bancaire: \\'\\n                                    \\'une Revue de la Litt\\xc3\\xa9rature\\'},\\n                   \\'filled\\': False,\\n                   \\'num_citations\\': 0,\\n                   \\'source\\': \\'AUTHOR_PUBLICATION_ENTRY\\'},\\n                  {\\'author_pub_id\\': \\'S1_vu8EAAAAJ:LkGwnXOMwfcC\\',\\n                   \\'bib\\': {\\'citation\\': \\'\\',\\n                           \\'title\\': \\'\\xe2\\x80\\x98Tap-Tap\\xe2\\x80\\x99, Original Form of Destination \\'\\n                                    \\'Narrative\\'},\\n                   \\'filled\\': False,\\n                   \\'num_citations\\': 0,\\n                   \\'source\\': \\'AUTHOR_PUBLICATION_ENTRY\\'},\\n                  {\\'author_pub_id\\': \\'S1_vu8EAAAAJ:Tyk-4Ss8FVUC\\',\\n                   \\'bib\\': {\\'citation\\': \\'\\',\\n                           \\'title\\': \\'Le taux de change d\\xc3\\xa9crit \\xc3\\xa0 travers \\'\\n                                    \"l\\'instabilit\\xc3\\xa9 politique\"},\\n                   \\'filled\\': False,\\n                   \\'num_citations\\': 0,\\n                   \\'source\\': \\'AUTHOR_PUBLICATION_ENTRY\\'},\\n                  {\\'author_pub_id\\': \\'S1_vu8EAAAAJ:qjMakFHDy7sC\\',\\n                   \\'bib\\': {\\'citation\\': \\'\\',\\n                           \\'title\\': \\'Bank Failure and Bank-Specific Factors: A \\'\\n                                    \\'Survey\\'},\\n                   \\'filled\\': False,\\n                   \\'num_citations\\': 0,\\n                   \\'source\\': \\'AUTHOR_PUBLICATION_ENTRY\\'}],\\n \\'scholar_id\\': \\'S1_vu8EAAAAJ\\',\\n \\'source\\': \\'SEARCH_AUTHOR_SNIPPETS\\',\\n \\'url_picture\\': \\'https://scholar.google.com/citations?view_op=medium_photo&user=S1_vu8EAAAAJ\\'}'\n"
     ]
    }
   ],
   "source": [
    "search_query = scholarly.search_author('Raulin Cadet')\n",
    "author = next(search_query)\n",
    "scholarly.pprint(scholarly.fill(author, sections=['publications']))"
   ]
  },
  {
   "cell_type": "code",
   "execution_count": 75,
   "id": "68e45314-5eb5-4a6c-b2fc-4a7e93c0d9a3",
   "metadata": {},
   "outputs": [
    {
     "name": "stdout",
     "output_type": "stream",
     "text": [
      "b'{\\'affiliation\\': \\'Universit\\xc3\\xa9 Quisqueya\\',\\n \\'citedby\\': 64,\\n \\'email_domain\\': \\'@uniq.edu.ht\\',\\n \\'filled\\': False,\\n \\'interests\\': [\\'Banking\\', \\'Microfinance\\', \\'Monetary Policy\\'],\\n \\'name\\': \\'Raulin Lincifort Cadet\\',\\n \\'publications\\': [{\\'author_pub_id\\': \\'S1_vu8EAAAAJ:u5HHmVD_uO8C\\',\\n                   \\'bib\\': {\\'citation\\': \\'Journal of financial Economic policy, \\'\\n                                       \\'2009\\',\\n                           \\'pub_year\\': \\'2009\\',\\n                           \\'title\\': \\'A theory of linkage between monetary \\'\\n                                    \\'policy and banking failure in developing \\'\\n                                    \\'countries\\'},\\n                   \\'citedby_url\\': \\'https://scholar.google.com/scholar?oi=bibs&hl=en&cites=9613500936658885309\\',\\n                   \\'cites_id\\': [\\'9613500936658885309\\'],\\n                   \\'filled\\': False,\\n                   \\'num_citations\\': 11,\\n                   \\'source\\': \\'AUTHOR_PUBLICATION_ENTRY\\'},\\n                  {\\'author_pub_id\\': \\'S1_vu8EAAAAJ:_FxGoFyzp5QC\\',\\n                   \\'bib\\': {\\'citation\\': \\'\\',\\n                           \\'pub_year\\': \\'2020\\',\\n                           \\'title\\': \\'Measuring the scientific productivity of \\'\\n                                    \\'UniQ researchers on ResearchGate (April \\'\\n                                    \\'21, 2020). Report number: RG-report-004. \\'\\n                                    \\'Port-au-Prince: Universit\\xc3\\xa9 Quisqueya\\'},\\n                   \\'citedby_url\\': \\'https://scholar.google.com/scholar?oi=bibs&hl=en&cites=12749802965459026838\\',\\n                   \\'cites_id\\': [\\'12749802965459026838\\'],\\n                   \\'filled\\': False,\\n                   \\'num_citations\\': 10,\\n                   \\'source\\': \\'AUTHOR_PUBLICATION_ENTRY\\'},\\n                  {\\'author_pub_id\\': \\'S1_vu8EAAAAJ:ufrVoPGSRksC\\',\\n                   \\'bib\\': {\\'citation\\': \\'\\',\\n                           \\'pub_year\\': \\'2020\\',\\n                           \\'title\\': \\'Measuring the scientific productivity of \\'\\n                                    \\'UniQ researchers on ResearchGate \\'\\n                                    \\'(February 18, 2020). Report number: \\'\\n                                    \\'RG-report-002. Port-au-Prince: Universit\\xc3\\xa9 \\'\\n                                    \\'Quisqueya\\'},\\n                   \\'citedby_url\\': \\'https://scholar.google.com/scholar?oi=bibs&hl=en&cites=10823937406639889089\\',\\n                   \\'cites_id\\': [\\'10823937406639889089\\'],\\n                   \\'filled\\': False,\\n                   \\'num_citations\\': 10,\\n                   \\'source\\': \\'AUTHOR_PUBLICATION_ENTRY\\'},\\n                  {\\'author_pub_id\\': \\'S1_vu8EAAAAJ:eQOLeE2rZwMC\\',\\n                   \\'bib\\': {\\'citation\\': \\'Report number: RG-report-003. \\'\\n                                       \\'Port-au-Prince: Universit\\xc3\\xa9 Quisqueya \\'\\n                                       \\'https \\xe2\\x80\\xa6, 2020\\',\\n                           \\'pub_year\\': \\'2020\\',\\n                           \\'title\\': \\'Measuring the scientific productivity of \\'\\n                                    \\'UniQ researchers on ResearchGate (March \\'\\n                                    \\'17, 2020)\\'},\\n                   \\'citedby_url\\': \\'https://scholar.google.com/scholar?oi=bibs&hl=en&cites=2525451224650243986\\',\\n                   \\'cites_id\\': [\\'2525451224650243986\\'],\\n                   \\'filled\\': False,\\n                   \\'num_citations\\': 9,\\n                   \\'source\\': \\'AUTHOR_PUBLICATION_ENTRY\\'},\\n                  {\\'author_pub_id\\': \\'S1_vu8EAAAAJ:WF5omc3nYNoC\\',\\n                   \\'bib\\': {\\'citation\\': \\'\\',\\n                           \\'pub_year\\': \\'2020\\',\\n                           \\'title\\': \\'Measuring the scientific productivity of \\'\\n                                    \\'UniQ researchers on ResearchGate (January \\'\\n                                    \\'21, 2020. Report number: RG-report-001. \\'\\n                                    \\'Port-au-Prince: Universit\\xc3\\xa9 Quisqueya\\'},\\n                   \\'citedby_url\\': \\'https://scholar.google.com/scholar?oi=bibs&hl=en&cites=2670176819511107308\\',\\n                   \\'cites_id\\': [\\'2670176819511107308\\'],\\n                   \\'filled\\': False,\\n                   \\'num_citations\\': 8,\\n                   \\'source\\': \\'AUTHOR_PUBLICATION_ENTRY\\'},\\n                  {\\'author_pub_id\\': \\'S1_vu8EAAAAJ:UeHWp8X0CEIC\\',\\n                   \\'bib\\': {\\'citation\\': \\'International Journal of Banking, \\'\\n                                       \\'Accounting and Finance 6 (1), 37-52, \\'\\n                                       \\'2015\\',\\n                           \\'pub_year\\': \\'2015\\',\\n                           \\'title\\': \\'Cost and profit efficiency of banks in \\'\\n                                    \\'Haiti: do domestic banks perform better \\'\\n                                    \\'than foreign banks?\\'},\\n                   \\'citedby_url\\': \\'https://scholar.google.com/scholar?oi=bibs&hl=en&cites=1536063209138124785\\',\\n                   \\'cites_id\\': [\\'1536063209138124785\\'],\\n                   \\'filled\\': False,\\n                   \\'num_citations\\': 6,\\n                   \\'source\\': \\'AUTHOR_PUBLICATION_ENTRY\\'},\\n                  {\\'author_pub_id\\': \\'S1_vu8EAAAAJ:u-x6o8ySG0sC\\',\\n                   \\'bib\\': {\\'citation\\': \\'\\',\\n                           \\'pub_year\\': \\'2008\\',\\n                           \\'title\\': \\'Cost and profit efficiency of banks in \\'\\n                                    \\'Haiti: do domestic banks perform better \\'\\n                                    \\'than foreign banks?\\'},\\n                   \\'citedby_url\\': \\'https://scholar.google.com/scholar?oi=bibs&hl=en&cites=11008379607328493337\\',\\n                   \\'cites_id\\': [\\'11008379607328493337\\'],\\n                   \\'filled\\': False,\\n                   \\'num_citations\\': 5,\\n                   \\'source\\': \\'AUTHOR_PUBLICATION_ENTRY\\'},\\n                  {\\'author_pub_id\\': \\'S1_vu8EAAAAJ:d1gkVwhDpl0C\\',\\n                   \\'bib\\': {\\'citation\\': \\'Universit\\xc3\\xa9 Rennes 1, 2009\\',\\n                           \\'pub_year\\': \\'2009\\',\\n                           \\'title\\': \"L\\'impact de la politique mon\\xc3\\xa9taire sur la \"\\n                                    \\'d\\xc3\\xa9faillance bancaire dans les pays en \\'\\n                                    \"d\\xc3\\xa9veloppement: le cas d\\'Ha\\xc3\\xafti\"},\\n                   \\'citedby_url\\': \\'https://scholar.google.com/scholar?oi=bibs&hl=en&cites=5424740350303136947\\',\\n                   \\'cites_id\\': [\\'5424740350303136947\\'],\\n                   \\'filled\\': False,\\n                   \\'num_citations\\': 2,\\n                   \\'source\\': \\'AUTHOR_PUBLICATION_ENTRY\\'},\\n                  {\\'author_pub_id\\': \\'S1_vu8EAAAAJ:hqOjcs7Dif8C\\',\\n                   \\'bib\\': {\\'citation\\': \\'Journal of Enterprising Culture 29 \\'\\n                                       \\'(03), 249-272, 2021\\',\\n                           \\'pub_year\\': \\'2021\\',\\n                           \\'title\\': \\'Business Creation Among Participants in \\'\\n                                    \\'Entrepreneurship Education Programs: A \\'\\n                                    \\'Case Study Among University-Level \\'\\n                                    \\'Participants in a Context of Adverse \\'\\n                                    \\'Business Environment\\'},\\n                   \\'citedby_url\\': \\'https://scholar.google.com/scholar?oi=bibs&hl=en&cites=16520128621976618648\\',\\n                   \\'cites_id\\': [\\'16520128621976618648\\'],\\n                   \\'filled\\': False,\\n                   \\'num_citations\\': 1,\\n                   \\'source\\': \\'AUTHOR_PUBLICATION_ENTRY\\'},\\n                  {\\'author_pub_id\\': \\'S1_vu8EAAAAJ:2osOgNQ5qMEC\\',\\n                   \\'bib\\': {\\'citation\\': \\'S\\xc3\\xa9minaire Interne du CREM-UMR6211, \\'\\n                                       \\'2013\\',\\n                           \\'pub_year\\': \\'2013\\',\\n                           \\'title\\': \\'Microfinance in Haiti: Do the Poorest \\'\\n                                    \\'have Access to Credit?\\'},\\n                   \\'citedby_url\\': \\'https://scholar.google.com/scholar?oi=bibs&hl=en&cites=16473018944450468407\\',\\n                   \\'cites_id\\': [\\'16473018944450468407\\'],\\n                   \\'filled\\': False,\\n                   \\'num_citations\\': 1,\\n                   \\'source\\': \\'AUTHOR_PUBLICATION_ENTRY\\'},\\n                  {\\'author_pub_id\\': \\'S1_vu8EAAAAJ:9yKSN-GCB0IC\\',\\n                   \\'bib\\': {\\'citation\\': \\'\\',\\n                           \\'pub_year\\': \\'2004\\',\\n                           \\'title\\': \\'La reforme de la r\\xc3\\xa9gulation prudentielle \\'\\n                                    \\'et de la supervision bancaire en Ha\\xc3\\xafti: \\'\\n                                    \\'un transfert de savoir-faire\\'},\\n                   \\'citedby_url\\': \\'https://scholar.google.com/scholar?oi=bibs&hl=en&cites=13608385155401093520\\',\\n                   \\'cites_id\\': [\\'13608385155401093520\\'],\\n                   \\'filled\\': False,\\n                   \\'num_citations\\': 1,\\n                   \\'source\\': \\'AUTHOR_PUBLICATION_ENTRY\\'},\\n                  {\\'author_pub_id\\': \\'S1_vu8EAAAAJ:Se3iqnhoufwC\\',\\n                   \\'bib\\': {\\'citation\\': \\'Hospitality, Tourism and Marketing \\'\\n                                       \\'Studies, 33, 2022\\',\\n                           \\'pub_year\\': \\'2022\\',\\n                           \\'title\\': \\'\\xe2\\x80\\x98Tap-Tap\\xe2\\x80\\x99: A Journey through Haiti, and \\'\\n                                    \\'an Original Form of Destination \\'\\n                                    \\'Narrative\\'},\\n                   \\'filled\\': False,\\n                   \\'num_citations\\': 0,\\n                   \\'source\\': \\'AUTHOR_PUBLICATION_ENTRY\\'},\\n                  {\\'author_pub_id\\': \\'S1_vu8EAAAAJ:UebtZRa9Y70C\\',\\n                   \\'bib\\': {\\'citation\\': \\'\\',\\n                           \\'pub_year\\': \\'2021\\',\\n                           \\'title\\': \\'Acc\\xc3\\xa8s aux biens et Services en \\'\\n                                    \\'Ha\\xc3\\xafti-Banque et D\\xc3\\xa9veloppement\\'},\\n                   \\'filled\\': False,\\n                   \\'num_citations\\': 0,\\n                   \\'source\\': \\'AUTHOR_PUBLICATION_ENTRY\\'},\\n                  {\\'author_pub_id\\': \\'S1_vu8EAAAAJ:YsMSGLbcyi4C\\',\\n                   \\'bib\\': {\\'citation\\': \\'CORPUHA (Conf\\xc3\\xa9rence des Recteurs, \\'\\n                                       \\'Pr\\xc3\\xa9sidents et Dirigeants d\\xe2\\x80\\x99Universit\\xc3\\xa9s \\'\\n                                       \\'et \\xe2\\x80\\xa6, 2020\\',\\n                           \\'pub_year\\': \\'2020\\',\\n                           \\'title\\': \\'\\xc3\\x89TAT DES LIEUX DE LA RECHERCHE AU SEIN \\'\\n                                    \\'DES IES\\'},\\n                   \\'filled\\': False,\\n                   \\'num_citations\\': 0,\\n                   \\'source\\': \\'AUTHOR_PUBLICATION_ENTRY\\'},\\n                  {\\'author_pub_id\\': \\'S1_vu8EAAAAJ:IjCSPb-OGe4C\\',\\n                   \\'bib\\': {\\'citation\\': \\'\\',\\n                           \\'pub_year\\': \\'2018\\',\\n                           \\'title\\': \\'Forecasting Consumer Price Index in Haiti \\'\\n                                    \\'using Google Trends\\'},\\n                   \\'filled\\': False,\\n                   \\'num_citations\\': 0,\\n                   \\'source\\': \\'AUTHOR_PUBLICATION_ENTRY\\'},\\n                  {\\'author_pub_id\\': \\'S1_vu8EAAAAJ:Y0pCki6q_DkC\\',\\n                   \\'bib\\': {\\'citation\\': \"Presses de l\\'Universit\\xc3\\xa9 Quisqueya, \"\\n                                       \\'2018\\',\\n                           \\'pub_year\\': \\'2018\\',\\n                           \\'title\\': \\'La mise en commun des activit\\xc3\\xa9s de \\'\\n                                    \\'recherche en \\xc3\\x89conomie, \\xc3\\x89ducation et \\'\\n                                    \\'\\xc3\\x89tudes Urbaines de l\\xe2\\x80\\x99Universit\\xc3\\xa9 \\'\\n                                    \\'Quisqueya\\'},\\n                   \\'filled\\': False,\\n                   \\'num_citations\\': 0,\\n                   \\'source\\': \\'AUTHOR_PUBLICATION_ENTRY\\'},\\n                  {\\'author_pub_id\\': \\'S1_vu8EAAAAJ:W7OEmFMy1HYC\\',\\n                   \\'bib\\': {\\'citation\\': \\'\\',\\n                           \\'pub_year\\': \\'2010\\',\\n                           \\'title\\': \\'D\\xc3\\xa9terminants de la D\\xc3\\xa9faillance Bancaire: \\'\\n                                    \\'une Revue de la Litt\\xc3\\xa9rature\\'},\\n                   \\'filled\\': False,\\n                   \\'num_citations\\': 0,\\n                   \\'source\\': \\'AUTHOR_PUBLICATION_ENTRY\\'},\\n                  {\\'author_pub_id\\': \\'S1_vu8EAAAAJ:LkGwnXOMwfcC\\',\\n                   \\'bib\\': {\\'citation\\': \\'\\',\\n                           \\'title\\': \\'\\xe2\\x80\\x98Tap-Tap\\xe2\\x80\\x99, Original Form of Destination \\'\\n                                    \\'Narrative\\'},\\n                   \\'filled\\': False,\\n                   \\'num_citations\\': 0,\\n                   \\'source\\': \\'AUTHOR_PUBLICATION_ENTRY\\'},\\n                  {\\'author_pub_id\\': \\'S1_vu8EAAAAJ:Tyk-4Ss8FVUC\\',\\n                   \\'bib\\': {\\'citation\\': \\'\\',\\n                           \\'title\\': \\'Le taux de change d\\xc3\\xa9crit \\xc3\\xa0 travers \\'\\n                                    \"l\\'instabilit\\xc3\\xa9 politique\"},\\n                   \\'filled\\': False,\\n                   \\'num_citations\\': 0,\\n                   \\'source\\': \\'AUTHOR_PUBLICATION_ENTRY\\'},\\n                  {\\'author_pub_id\\': \\'S1_vu8EAAAAJ:qjMakFHDy7sC\\',\\n                   \\'bib\\': {\\'citation\\': \\'\\',\\n                           \\'title\\': \\'Bank Failure and Bank-Specific Factors: A \\'\\n                                    \\'Survey\\'},\\n                   \\'filled\\': False,\\n                   \\'num_citations\\': 0,\\n                   \\'source\\': \\'AUTHOR_PUBLICATION_ENTRY\\'}],\\n \\'scholar_id\\': \\'S1_vu8EAAAAJ\\',\\n \\'source\\': \\'SEARCH_AUTHOR_SNIPPETS\\',\\n \\'url_picture\\': \\'https://scholar.google.com/citations?view_op=medium_photo&user=S1_vu8EAAAAJ\\'}'\n"
     ]
    },
    {
     "ename": "TypeError",
     "evalue": "'NoneType' object is not iterable",
     "output_type": "error",
     "traceback": [
      "\u001b[1;31m---------------------------------------------------------------------------\u001b[0m",
      "\u001b[1;31mTypeError\u001b[0m                                 Traceback (most recent call last)",
      "Input \u001b[1;32mIn [75]\u001b[0m, in \u001b[0;36m<cell line: 1>\u001b[1;34m()\u001b[0m\n\u001b[1;32m----> 1\u001b[0m [i \u001b[38;5;28;01mfor\u001b[39;00m i \u001b[38;5;129;01min\u001b[39;00m scholarly\u001b[38;5;241m.\u001b[39mpprint(scholarly\u001b[38;5;241m.\u001b[39mfill(author, sections\u001b[38;5;241m=\u001b[39m[\u001b[38;5;124m'\u001b[39m\u001b[38;5;124mpublications\u001b[39m\u001b[38;5;124m'\u001b[39m]))]\n",
      "\u001b[1;31mTypeError\u001b[0m: 'NoneType' object is not iterable"
     ]
    }
   ],
   "source": []
  }
 ],
 "metadata": {
  "kernelspec": {
   "display_name": "Python 3 (ipykernel)",
   "language": "python",
   "name": "python3"
  },
  "language_info": {
   "codemirror_mode": {
    "name": "ipython",
    "version": 3
   },
   "file_extension": ".py",
   "mimetype": "text/x-python",
   "name": "python",
   "nbconvert_exporter": "python",
   "pygments_lexer": "ipython3",
   "version": "3.9.12"
  }
 },
 "nbformat": 4,
 "nbformat_minor": 5
}
