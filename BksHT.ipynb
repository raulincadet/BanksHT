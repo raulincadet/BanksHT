{
 "cells": [
  {
   "cell_type": "markdown",
   "id": "8373b4ff",
   "metadata": {},
   "source": [
    "# 1- PREAMBULE"
   ]
  },
  {
   "cell_type": "code",
   "execution_count": 1,
   "id": "3d72e123",
   "metadata": {},
   "outputs": [],
   "source": [
    "import pandas as pd\n",
    "import numpy as np\n",
    "from datetime import datetime,timedelta\n",
    "import calendar\n",
    "from dateutil.relativedelta import relativedelta\n"
   ]
  },
  {
   "cell_type": "markdown",
   "id": "ed6081fc",
   "metadata": {},
   "source": [
    "# 2-NUMBER OF EMPLOYEES DATA: importing and cleanning data"
   ]
  },
  {
   "cell_type": "code",
   "execution_count": 477,
   "id": "fae961fc",
   "metadata": {},
   "outputs": [],
   "source": [
    "def f_employ(x): # function to import and clean data\n",
    "    df=pd.read_excel(x,sheet_name='employés')\n",
    "    #date=[];ddates=[]\n",
    "    def col_names(df): # look for the number of line with the names of the banks to be columns names\n",
    "        y=[];z=[];\n",
    "        for i in range(0,(df.shape[0]-1)):\n",
    "            if 'BNC' in df.loc[i:(i+1),:].values:\n",
    "                y=df.loc[i:(i+1),:].values.tolist()[0]\n",
    "                z=i+1\n",
    "                #break\n",
    "        # add Date as name of column with the dates\n",
    "        df.columns=['Date']+y[1:]#df_employ.columns[1:].tolist()\n",
    "        df=df.iloc[z:,:]\n",
    "        return df\n",
    "    df=col_names(df)\n",
    "\n",
    "    # remove columns where names are NaN\n",
    "    jj=[ type(i)!=float for i in df.columns.values]\n",
    "    df=df[df.columns.values[jj]]\n",
    "    # remove all rows where there is at least 10 NaN\n",
    "    df=df.dropna(axis=0,thresh=10)\n",
    "    \n",
    "    date=[];ddates=[]\n",
    "    def date_identify():\n",
    "        ddates=df.Date.tolist()\n",
    "        Sdate=pd.Series([3,6,9,12],index=['Mar','Jui','Sep','Déc'])\n",
    "        month=[];year=[];days_length=[]\n",
    "        for i in ddates:#dd.Date.tolist():\n",
    "            month.append(Sdate[i[0:3]])\n",
    "            year.append(int(i[-4:]))\n",
    "\n",
    "        days_length=[];date=[]\n",
    "        for j in range(0,len(month)):\n",
    "            days_length.append(calendar.monthrange(year[j],month[j])[1])\n",
    "            date.append(datetime(year[j],month[j],days_length[j]).strftime('%Y-%m-%d'))\n",
    "\n",
    "        return date\n",
    "    df.Date=date_identify()\n",
    "    \n",
    "    return df"
   ]
  },
  {
   "cell_type": "code",
   "execution_count": 478,
   "id": "a75bd060",
   "metadata": {},
   "outputs": [],
   "source": [
    "def f_employ2(x): # function to import and clean data\n",
    "    df=pd.read_excel(x,sheet_name='employés')\n",
    "    #date=[];ddates=[]\n",
    "    def col_names(df): # look for the number of line with the names of the banks to be columns names\n",
    "        y=[];z=[];\n",
    "        for i in range(0,(df.shape[0]-1)):\n",
    "            if 'BNC' in df.loc[i:(i+1),:].values:\n",
    "                y=df.loc[i:(i+1),:].values.tolist()[0]\n",
    "                z=i+1\n",
    "                #break\n",
    "        # add Date as name of column with the dates\n",
    "        df.columns=['Date']+y[1:]#df_employ.columns[1:].tolist()\n",
    "        df=df.iloc[z:,:]\n",
    "        return df\n",
    "    df=col_names(df)\n",
    "\n",
    "    # remove columns where names are NaN\n",
    "    jj=[ type(i)!=float for i in df.columns.values]\n",
    "    df=df[df.columns.values[jj]]\n",
    "    # remove all rows where there is at least 10 NaN\n",
    "    df=df.dropna(axis=0,thresh=10)\n",
    "    ###############\n",
    "    date=[];ddates=[]\n",
    "    def date_identify():\n",
    "        ddates=df.Date.tolist()\n",
    "        Sdate=pd.Series([3,6,9,12],index=['Mar','Jui','Sep','Déc'])\n",
    "        month_first=[];year_first=[];month_end=[];year_end=[]\n",
    "        for i in range(0,len(Sdate)):             # find the number of the months for first row of data\n",
    "            if Sdate.index[i]==ddates[0][0:3]: \n",
    "                month_first.append(Sdate[i])\n",
    "                year_first.append(ddates[0][-4:])\n",
    "            if Sdate.index[i]==ddates[len(ddates)-1][0:3]:\n",
    "                month_end.append(Sdate[i])\n",
    "                year_end.append(ddates[len(ddates)-1][-4:])\n",
    "        date_first=year_first[0]+'-'+str(month_first[0])+'-'+'01'    \n",
    "        date_end=year_end[0]+'-'+str(month_end[0])+'-'+'01'\n",
    "        #date_end=date_end.tolist()\n",
    "        #date_end=date_end[len(date_end)-1]+relativedelta(months=3)\n",
    "        period=pd.date_range(date_first,date_end,freq='Q').tolist()\n",
    "        period.append(period[len(period)-1]+relativedelta(months=3))\n",
    "        return period\n",
    "    df.Date=date_identify()\n",
    "    return df#ate_end#[0]+relativedelta(months=1)\n"
   ]
  },
  {
   "cell_type": "code",
   "execution_count": 2,
   "id": "0077edd7",
   "metadata": {},
   "outputs": [],
   "source": [
    "def f_employ3(x): # function to import and clean data\n",
    "    df=pd.read_excel(x,sheet_name='employés')\n",
    "    #date=[];ddates=[]\n",
    "    def col_names(df): # look for the number of line with the names of the banks to be columns names\n",
    "        y=[];z=[];\n",
    "        for i in range(0,(df.shape[0]-1)):\n",
    "            if 'BNC' in df.loc[i:(i+1),:].values:\n",
    "                y=df.loc[i:(i+1),:].values.tolist()[0]\n",
    "                z=i+1\n",
    "                #break\n",
    "        # add Date as name of column with the dates\n",
    "        df.columns=['Date']+y[1:]#df_employ.columns[1:].tolist()\n",
    "        df=df.iloc[z:,:]\n",
    "        return df\n",
    "    df=col_names(df)\n",
    "\n",
    "    # remove columns where names are NaN\n",
    "    jj=[ type(i)!=float for i in df.columns.values]\n",
    "    df=df[df.columns.values[jj]]\n",
    "    # remove all rows where there is at least 10 NaN\n",
    "    df=df.dropna(axis=0,thresh=10)\n",
    "    ###############\n",
    "    date=[];ddates=[]\n",
    "    def date_identify():\n",
    "        ddates=df.Date.tolist()\n",
    "        Sdate=pd.Series([3,6,9,12],index=['Mar','Jui','Sep','Déc'])\n",
    "        month_first=[];year_first=[];month_end=[];year_end=[]\n",
    "        for i in range(0,len(Sdate)):             # find the number of the months for first row of data\n",
    "            if Sdate.index[i]==ddates[0][0:3]: \n",
    "                month_first.append(Sdate[i])\n",
    "                year_first.append(ddates[0][-4:])\n",
    "           # if Sdate.index[i]==ddates[len(ddates)-1][0:3]:\n",
    "            #    month_end.append(Sdate[i])\n",
    "             #   year_end.append(ddates[len(ddates)-1][-4:])\n",
    "        date_first=year_first[0]+'-'+str(month_first[0])+'-'+'01' # build first observation date as YYYY-mm-dd\n",
    "        date_first=datetime.strptime(date_first,'%Y-%m-%d') # convert date to timedate type\n",
    "        date_range=[date_first]\n",
    "        for i in range(0,df.shape[0]-1):\n",
    "            date_range.append(date_range[i]+relativedelta(months=3))\n",
    "        #date_end=year_end[0]+'-'+str(month_end[0])+'-'+'01'\n",
    "        #date_end=date_first\n",
    "        ##date_end=date_end.tolist()\n",
    "        ##date_end=date_end[len(date_end)-1]+relativedelta(months=3)\n",
    "        #period=pd.date_range(date_first,date_end,freq='Q').tolist()\n",
    "        #period.append(period[len(period)-1]+relativedelta(months=3))\n",
    "        return date_range#period\n",
    "    df.Date=date_identify()\n",
    "    return df#date_identify()#ate_end#[0]+relativedelta(months=1)"
   ]
  },
  {
   "cell_type": "markdown",
   "id": "fe3b37a8",
   "metadata": {},
   "source": [
    "### Arranging cleanning data in three columns: Date,Banks, Indicator"
   ]
  },
  {
   "cell_type": "code",
   "execution_count": 3,
   "id": "16397514",
   "metadata": {},
   "outputs": [],
   "source": [
    "def group_data(x,fun): # function to group data of a variable by bank\n",
    "    df=fun(x)          # x is a data frame of and indicator, where the dates are in the first column and each bank is a column of the indicator\n",
    "    dfs=df.columns[1:] # list of columns, except the dates\n",
    "    date=[];values=[];banks=[]\n",
    "    for d in range(0,len(dfs)):\n",
    "        date.append(df.Date)\n",
    "        values.append((df[dfs[d]]))\n",
    "        banks.append([dfs[d]]*df.shape[0])\n",
    "    def flatten_list(x): # function to flatten a list of lists to \n",
    "        y=[]\n",
    "        for i in x:\n",
    "            for j in i:\n",
    "                y.append(j)\n",
    "        return y\n",
    "    date=flatten_list(date)\n",
    "    values=flatten_list(values)\n",
    "    banks=flatten_list(banks)\n",
    "    df=pd.DataFrame({'Date':date,'Banks':banks,'Indicator':values})\n",
    "    return df\n"
   ]
  },
  {
   "cell_type": "markdown",
   "id": "22cf866b",
   "metadata": {},
   "source": [
    "### Creating the list of Excel files containing the reports"
   ]
  },
  {
   "cell_type": "code",
   "execution_count": 481,
   "id": "ead274cb",
   "metadata": {},
   "outputs": [
    {
     "data": {
      "text/plain": [
       "['trim_1_2022.xlsx',\n",
       " 'trim_1_2019.xls',\n",
       " 'trim_1_2020.xls',\n",
       " 'trim_1_2021.xlsx',\n",
       " 'trim_2_2019.xls']"
      ]
     },
     "execution_count": 481,
     "metadata": {},
     "output_type": "execute_result"
    }
   ],
   "source": [
    "# list of Excel files names\n",
    "df_files=pd.read_csv('BRH_ExcelFiles.csv')\n",
    "filesList=df_files.x.tolist()\n",
    "filesList[0:5]  # show the first five files names"
   ]
  },
  {
   "cell_type": "markdown",
   "id": "0ea50e2f",
   "metadata": {},
   "source": [
    "### A Function to import and combine data\n",
    "\n",
    "In this section all data related to the number of employees are imported and combined in one data frame named *df_employees*."
   ]
  },
  {
   "cell_type": "code",
   "execution_count": 4,
   "id": "8ea91554",
   "metadata": {},
   "outputs": [],
   "source": [
    "def f_combine(x,fun): # x is the list of files names; fun is the function that import and clean data\n",
    "    df=pd.DataFrame(columns=['Date','Banks','Indicator'])\n",
    "    for file in x:\n",
    "        df=pd.merge(df,group_data(file,fun),how='outer')\n",
    "    return df"
   ]
  },
  {
   "cell_type": "code",
   "execution_count": 483,
   "id": "23ada72a",
   "metadata": {},
   "outputs": [],
   "source": [
    "df_employees=f_combine(filesList,fun=f_employ3)"
   ]
  },
  {
   "cell_type": "code",
   "execution_count": 484,
   "id": "545c3e50",
   "metadata": {
    "scrolled": true
   },
   "outputs": [
    {
     "data": {
      "text/html": [
       "<div>\n",
       "<style scoped>\n",
       "    .dataframe tbody tr th:only-of-type {\n",
       "        vertical-align: middle;\n",
       "    }\n",
       "\n",
       "    .dataframe tbody tr th {\n",
       "        vertical-align: top;\n",
       "    }\n",
       "\n",
       "    .dataframe thead th {\n",
       "        text-align: right;\n",
       "    }\n",
       "</style>\n",
       "<table border=\"1\" class=\"dataframe\">\n",
       "  <thead>\n",
       "    <tr style=\"text-align: right;\">\n",
       "      <th></th>\n",
       "      <th>Date</th>\n",
       "      <th>Banks</th>\n",
       "      <th>Indicator</th>\n",
       "    </tr>\n",
       "  </thead>\n",
       "  <tbody>\n",
       "    <tr>\n",
       "      <th>0</th>\n",
       "      <td>2014-12-01</td>\n",
       "      <td>BNC</td>\n",
       "      <td>647.0</td>\n",
       "    </tr>\n",
       "    <tr>\n",
       "      <th>1</th>\n",
       "      <td>2015-03-01</td>\n",
       "      <td>BNC</td>\n",
       "      <td>638.0</td>\n",
       "    </tr>\n",
       "    <tr>\n",
       "      <th>2</th>\n",
       "      <td>2015-06-01</td>\n",
       "      <td>BNC</td>\n",
       "      <td>636.0</td>\n",
       "    </tr>\n",
       "    <tr>\n",
       "      <th>3</th>\n",
       "      <td>2015-09-01</td>\n",
       "      <td>BNC</td>\n",
       "      <td>623.0</td>\n",
       "    </tr>\n",
       "    <tr>\n",
       "      <th>4</th>\n",
       "      <td>2015-12-01</td>\n",
       "      <td>BNC</td>\n",
       "      <td>704.0</td>\n",
       "    </tr>\n",
       "    <tr>\n",
       "      <th>...</th>\n",
       "      <td>...</td>\n",
       "      <td>...</td>\n",
       "      <td>...</td>\n",
       "    </tr>\n",
       "    <tr>\n",
       "      <th>2002</th>\n",
       "      <td>1997-06-01</td>\n",
       "      <td>BIDC</td>\n",
       "      <td>0.0</td>\n",
       "    </tr>\n",
       "    <tr>\n",
       "      <th>2003</th>\n",
       "      <td>1997-06-01</td>\n",
       "      <td>BUH</td>\n",
       "      <td>377.0</td>\n",
       "    </tr>\n",
       "    <tr>\n",
       "      <th>2004</th>\n",
       "      <td>1997-06-01</td>\n",
       "      <td>PROMOBK</td>\n",
       "      <td>165.0</td>\n",
       "    </tr>\n",
       "    <tr>\n",
       "      <th>2005</th>\n",
       "      <td>1997-09-01</td>\n",
       "      <td>BUH</td>\n",
       "      <td>310.0</td>\n",
       "    </tr>\n",
       "    <tr>\n",
       "      <th>2006</th>\n",
       "      <td>1997-09-01</td>\n",
       "      <td>PROMOBK</td>\n",
       "      <td>168.0</td>\n",
       "    </tr>\n",
       "  </tbody>\n",
       "</table>\n",
       "<p>2007 rows × 3 columns</p>\n",
       "</div>"
      ],
      "text/plain": [
       "           Date    Banks Indicator\n",
       "0    2014-12-01      BNC     647.0\n",
       "1    2015-03-01      BNC     638.0\n",
       "2    2015-06-01      BNC     636.0\n",
       "3    2015-09-01      BNC     623.0\n",
       "4    2015-12-01      BNC     704.0\n",
       "...         ...      ...       ...\n",
       "2002 1997-06-01     BIDC       0.0\n",
       "2003 1997-06-01      BUH     377.0\n",
       "2004 1997-06-01  PROMOBK     165.0\n",
       "2005 1997-09-01      BUH     310.0\n",
       "2006 1997-09-01  PROMOBK     168.0\n",
       "\n",
       "[2007 rows x 3 columns]"
      ]
     },
     "execution_count": 484,
     "metadata": {},
     "output_type": "execute_result"
    }
   ],
   "source": [
    "df_employees"
   ]
  },
  {
   "cell_type": "markdown",
   "id": "9f2a39a3",
   "metadata": {},
   "source": [
    "### Remove duplicated data, using Date column"
   ]
  },
  {
   "cell_type": "code",
   "execution_count": 485,
   "id": "0ecf1943",
   "metadata": {},
   "outputs": [],
   "source": [
    "df_employees1=df_employees.drop_duplicates(subset=[\"Date\", \"Banks\"])"
   ]
  },
  {
   "cell_type": "code",
   "execution_count": 486,
   "id": "c9094ffb",
   "metadata": {},
   "outputs": [
    {
     "data": {
      "text/plain": [
       "((2007, 3), (1850, 3))"
      ]
     },
     "execution_count": 486,
     "metadata": {},
     "output_type": "execute_result"
    }
   ],
   "source": [
    "(df_employees.shape,df_employees1.shape) # compare the dimension of the old and the new data frame"
   ]
  },
  {
   "cell_type": "code",
   "execution_count": 487,
   "id": "9901fbc9",
   "metadata": {},
   "outputs": [
    {
     "data": {
      "text/html": [
       "<div>\n",
       "<style scoped>\n",
       "    .dataframe tbody tr th:only-of-type {\n",
       "        vertical-align: middle;\n",
       "    }\n",
       "\n",
       "    .dataframe tbody tr th {\n",
       "        vertical-align: top;\n",
       "    }\n",
       "\n",
       "    .dataframe thead th {\n",
       "        text-align: right;\n",
       "    }\n",
       "</style>\n",
       "<table border=\"1\" class=\"dataframe\">\n",
       "  <thead>\n",
       "    <tr style=\"text-align: right;\">\n",
       "      <th></th>\n",
       "      <th>Date</th>\n",
       "      <th>Banks</th>\n",
       "      <th>Indicator</th>\n",
       "    </tr>\n",
       "  </thead>\n",
       "  <tbody>\n",
       "    <tr>\n",
       "      <th>0</th>\n",
       "      <td>2014-12-01</td>\n",
       "      <td>BNC</td>\n",
       "      <td>647.0</td>\n",
       "    </tr>\n",
       "    <tr>\n",
       "      <th>1</th>\n",
       "      <td>2015-03-01</td>\n",
       "      <td>BNC</td>\n",
       "      <td>638.0</td>\n",
       "    </tr>\n",
       "    <tr>\n",
       "      <th>2</th>\n",
       "      <td>2015-06-01</td>\n",
       "      <td>BNC</td>\n",
       "      <td>636.0</td>\n",
       "    </tr>\n",
       "    <tr>\n",
       "      <th>3</th>\n",
       "      <td>2015-09-01</td>\n",
       "      <td>BNC</td>\n",
       "      <td>623.0</td>\n",
       "    </tr>\n",
       "    <tr>\n",
       "      <th>4</th>\n",
       "      <td>2015-12-01</td>\n",
       "      <td>BNC</td>\n",
       "      <td>704.0</td>\n",
       "    </tr>\n",
       "    <tr>\n",
       "      <th>...</th>\n",
       "      <td>...</td>\n",
       "      <td>...</td>\n",
       "      <td>...</td>\n",
       "    </tr>\n",
       "    <tr>\n",
       "      <th>1969</th>\n",
       "      <td>1998-06-01</td>\n",
       "      <td>SOGEBL</td>\n",
       "      <td>61</td>\n",
       "    </tr>\n",
       "    <tr>\n",
       "      <th>1970</th>\n",
       "      <td>1998-06-01</td>\n",
       "      <td>BHD</td>\n",
       "      <td>33</td>\n",
       "    </tr>\n",
       "    <tr>\n",
       "      <th>1971</th>\n",
       "      <td>1998-06-01</td>\n",
       "      <td>CBNA</td>\n",
       "      <td>65</td>\n",
       "    </tr>\n",
       "    <tr>\n",
       "      <th>1972</th>\n",
       "      <td>1998-06-01</td>\n",
       "      <td>SCOTIA</td>\n",
       "      <td>90</td>\n",
       "    </tr>\n",
       "    <tr>\n",
       "      <th>1973</th>\n",
       "      <td>1998-06-01</td>\n",
       "      <td>TOTAL</td>\n",
       "      <td>3077</td>\n",
       "    </tr>\n",
       "  </tbody>\n",
       "</table>\n",
       "<p>1850 rows × 3 columns</p>\n",
       "</div>"
      ],
      "text/plain": [
       "           Date   Banks Indicator\n",
       "0    2014-12-01     BNC     647.0\n",
       "1    2015-03-01     BNC     638.0\n",
       "2    2015-06-01     BNC     636.0\n",
       "3    2015-09-01     BNC     623.0\n",
       "4    2015-12-01     BNC     704.0\n",
       "...         ...     ...       ...\n",
       "1969 1998-06-01  SOGEBL        61\n",
       "1970 1998-06-01     BHD        33\n",
       "1971 1998-06-01    CBNA        65\n",
       "1972 1998-06-01  SCOTIA        90\n",
       "1973 1998-06-01   TOTAL      3077\n",
       "\n",
       "[1850 rows x 3 columns]"
      ]
     },
     "execution_count": 487,
     "metadata": {},
     "output_type": "execute_result"
    }
   ],
   "source": [
    "df_employees1"
   ]
  },
  {
   "cell_type": "markdown",
   "id": "3995c9b4",
   "metadata": {},
   "source": [
    "### Saving data in CSV files"
   ]
  },
  {
   "cell_type": "code",
   "execution_count": 488,
   "id": "3f6376bd",
   "metadata": {},
   "outputs": [],
   "source": [
    "df_employees.to_csv('BanksEmployees_all.csv',date_format='%Y-%m-%d',index=False)                 # file of all data, including duplicates"
   ]
  },
  {
   "cell_type": "code",
   "execution_count": 489,
   "id": "6b4351d5",
   "metadata": {},
   "outputs": [],
   "source": [
    "df_employees1.to_csv('BanksEmployees_withoutDuplicates.csv',date_format='%Y-%m-%d',index=False)  # file of data, without duplicates"
   ]
  },
  {
   "cell_type": "code",
   "execution_count": 490,
   "id": "9e65a722",
   "metadata": {},
   "outputs": [],
   "source": [
    "df_emp=pd.read_csv('BanksEmployees_withoutDuplicates.csv')    # a file to update with new data\n",
    "df_emp.to_csv('BanksEmployees.csv',date_format='%Y-%m-%d',index=False)"
   ]
  },
  {
   "cell_type": "markdown",
   "id": "6dbc804f",
   "metadata": {},
   "source": [
    "### Function to combine the available data with new quarterly report"
   ]
  },
  {
   "cell_type": "code",
   "execution_count": null,
   "id": "b8f9664a",
   "metadata": {},
   "outputs": [],
   "source": []
  },
  {
   "cell_type": "code",
   "execution_count": 491,
   "id": "f3630e3b",
   "metadata": {},
   "outputs": [],
   "source": [
    "def add_employ(newReportFile):\n",
    "    df_new=group_data(newReportFile,f_employ3)      # importing and cleanning data\n",
    "    #df_new1=df_new.drop_duplicates(subset=['Date','Banks']) # droping duplicated data, by Date and Banks\n",
    "    df_emp=pd.read_csv('BanksEmployees.csv')        # importing old data before combining with new data\n",
    "    df=pd.concat([df_emp,df_new],join='inner')\n",
    "    df.Date=df.Date.tolist()\n",
    "    df=df.drop_duplicates(subset=['Date','Banks']) # droping duplicated data, by Date and Banks\n",
    "    df.to_csv('BanksEmployees.csv',date_format='%Y-%m-%d',index=False)\n",
    "    return df"
   ]
  },
  {
   "cell_type": "code",
   "execution_count": 495,
   "id": "d9de13d3",
   "metadata": {},
   "outputs": [
    {
     "data": {
      "text/html": [
       "<div>\n",
       "<style scoped>\n",
       "    .dataframe tbody tr th:only-of-type {\n",
       "        vertical-align: middle;\n",
       "    }\n",
       "\n",
       "    .dataframe tbody tr th {\n",
       "        vertical-align: top;\n",
       "    }\n",
       "\n",
       "    .dataframe thead th {\n",
       "        text-align: right;\n",
       "    }\n",
       "</style>\n",
       "<table border=\"1\" class=\"dataframe\">\n",
       "  <thead>\n",
       "    <tr style=\"text-align: right;\">\n",
       "      <th></th>\n",
       "      <th>Date</th>\n",
       "      <th>Banks</th>\n",
       "      <th>Indicator</th>\n",
       "    </tr>\n",
       "  </thead>\n",
       "  <tbody>\n",
       "    <tr>\n",
       "      <th>0</th>\n",
       "      <td>2014-12-01</td>\n",
       "      <td>BNC</td>\n",
       "      <td>647.0</td>\n",
       "    </tr>\n",
       "    <tr>\n",
       "      <th>1</th>\n",
       "      <td>2015-03-01</td>\n",
       "      <td>BNC</td>\n",
       "      <td>638.0</td>\n",
       "    </tr>\n",
       "    <tr>\n",
       "      <th>2</th>\n",
       "      <td>2015-06-01</td>\n",
       "      <td>BNC</td>\n",
       "      <td>636.0</td>\n",
       "    </tr>\n",
       "    <tr>\n",
       "      <th>3</th>\n",
       "      <td>2015-09-01</td>\n",
       "      <td>BNC</td>\n",
       "      <td>623.0</td>\n",
       "    </tr>\n",
       "    <tr>\n",
       "      <th>4</th>\n",
       "      <td>2015-12-01</td>\n",
       "      <td>BNC</td>\n",
       "      <td>704.0</td>\n",
       "    </tr>\n",
       "    <tr>\n",
       "      <th>...</th>\n",
       "      <td>...</td>\n",
       "      <td>...</td>\n",
       "      <td>...</td>\n",
       "    </tr>\n",
       "    <tr>\n",
       "      <th>1045</th>\n",
       "      <td>2014-12-01 00:00:00</td>\n",
       "      <td>TOTAL</td>\n",
       "      <td>4288</td>\n",
       "    </tr>\n",
       "    <tr>\n",
       "      <th>1046</th>\n",
       "      <td>2015-03-01 00:00:00</td>\n",
       "      <td>TOTAL</td>\n",
       "      <td>4311</td>\n",
       "    </tr>\n",
       "    <tr>\n",
       "      <th>1047</th>\n",
       "      <td>2015-06-01 00:00:00</td>\n",
       "      <td>TOTAL</td>\n",
       "      <td>4337</td>\n",
       "    </tr>\n",
       "    <tr>\n",
       "      <th>1048</th>\n",
       "      <td>2015-09-01 00:00:00</td>\n",
       "      <td>TOTAL</td>\n",
       "      <td>4377</td>\n",
       "    </tr>\n",
       "    <tr>\n",
       "      <th>1049</th>\n",
       "      <td>2015-12-01 00:00:00</td>\n",
       "      <td>TOTAL</td>\n",
       "      <td>4521</td>\n",
       "    </tr>\n",
       "  </tbody>\n",
       "</table>\n",
       "<p>2900 rows × 3 columns</p>\n",
       "</div>"
      ],
      "text/plain": [
       "                     Date  Banks Indicator\n",
       "0              2014-12-01    BNC     647.0\n",
       "1              2015-03-01    BNC     638.0\n",
       "2              2015-06-01    BNC     636.0\n",
       "3              2015-09-01    BNC     623.0\n",
       "4              2015-12-01    BNC     704.0\n",
       "...                   ...    ...       ...\n",
       "1045  2014-12-01 00:00:00  TOTAL      4288\n",
       "1046  2015-03-01 00:00:00  TOTAL      4311\n",
       "1047  2015-06-01 00:00:00  TOTAL      4337\n",
       "1048  2015-09-01 00:00:00  TOTAL      4377\n",
       "1049  2015-12-01 00:00:00  TOTAL      4521\n",
       "\n",
       "[2900 rows x 3 columns]"
      ]
     },
     "execution_count": 495,
     "metadata": {},
     "output_type": "execute_result"
    }
   ],
   "source": [
    " add_employ('trim_1_2016.xls') # a test of the function"
   ]
  },
  {
   "cell_type": "markdown",
   "id": "8e1154b6-77f7-4dd5-84c1-f9c24670e548",
   "metadata": {},
   "source": [
    "# 3- BALANCE SHEET DATA: importing and cleanning data"
   ]
  },
  {
   "cell_type": "code",
   "execution_count": 18,
   "id": "bc8bd30a-2243-4283-a53c-642811beb57e",
   "metadata": {},
   "outputs": [],
   "source": [
    "def f_balsheet(x): # function to import and clean data\n",
    "    \n",
    "    # looking for the right sheet name of balance sheet for the quarterly which is the name of the Excel file\n",
    "    df=pd.ExcelFile(x)\n",
    "    sheets=df.sheet_names\n",
    "    def f_removeSpacesInList(x): # funtion to remove spaces in each string of a list\n",
    "        y=[]\n",
    "        for i in x:\n",
    "            y.append(i.replace(' ',''))\n",
    "        return y\n",
    "    sheets1=f_removeSpacesInList(sheets)   # removing spaces in each sheet name to identify the position of the sheet name needed easily\n",
    "    # for there is a space between the month abbreviation and the two last numbers of the years in some reports, and this space is not present in other reports.\n",
    "    Strim=pd.Series([1,1,2,2,3,4,4],index=['dec.','déc.','mars','nars','juin','sept.','sept']) # serie to build report name\n",
    "    # looking for the right sheet name of the balance sheet for the quarterly\n",
    "    trim=int(x.split('.')[0][5])\n",
    "    year=x.split('.')[0][-2:]\n",
    "    year_quarter=pd.Series([year[-2:],year[-2:],year[-2:],str(int(year)-1)[-2:]],index=[2,3,4,1]) # to identify the year, \n",
    "    # remembering that when quarter= 1 for year 2015 is the quarter ending on December of the last civil year, then December 2014\n",
    "    year_true=year_quarter[trim]\n",
    "    \n",
    "    z=[] # last month of quarterly - The first quarterly start on October and end in December, according to the fiscal year in Haiti\n",
    "    for i in range(0,len(Strim)):\n",
    "        if Strim[i]==trim:\n",
    "            z.append(Strim.index[i])\n",
    "    \n",
    "    psn=[] # possible sheet name(s) of the balance sheet \n",
    "    for i in z:\n",
    "        psn.append('bilsysban'+i+year_true)\n",
    "        psn.append('bilsysba'+i+year_true)  # at least in one report the correct sheet name structure is different\n",
    "    # looks for the name of of psn which is in sheet1 and use the same position index of this name in sheet1 to retrieve the right name in the list of sheets\n",
    "    sheetName=[]\n",
    "    for position in range(0,len(sheets1)):\n",
    "        for sh_name in psn:\n",
    "            if sh_name==sheets1[position]:\n",
    "                sheetName.append(sheets[position])\n",
    "    df=pd.read_excel(x,sheet_name=sheetName[0])\n",
    "   \n",
    "    # Give names to columns\n",
    "    def col_names(df): # look for the number of line with the names of the banks to be columns names\n",
    "            y=[];z=[];\n",
    "            for i in range(0,(df.shape[0]-1)):\n",
    "                if 'BNC  ' in df.loc[i:(i+1),:].values.tolist()[0]:\n",
    "                    y=df.loc[i:(i+1),:].values.tolist()[0]\n",
    "                    z=i+1    # defining row to start data frame\n",
    "                    #break\n",
    "            # add Date as name of column with the dates\n",
    "            df.columns=['Indicators']+y[1:]#df_employ.columns[1:].tolist()\n",
    "            df=df.iloc[z:,:] # begin data frame with row z\n",
    "            return df\n",
    "    df=col_names(df)\n",
    "    \n",
    "    # remove columns where names are NaN\n",
    "    jj=[ type(i)!=float for i in df.columns.values]\n",
    "    df=df[df.columns.values[jj]]\n",
    "    # remove all rows where there is at least 10 NaN\n",
    "    df=df.dropna(axis=0,thresh=10)\n",
    "    \n",
    "    # stop the data frame at row where is found the string \"Dépôts US convertis\".\n",
    "    df=df.reset_index()\n",
    "    endrow_data=df[df.Indicators=='Dépôts US convertis'].index[0] # finding the index number of row to stop the data frame\n",
    "    df=df.loc[:endrow_data,:]\n",
    "    \n",
    "    #### Adding a column of date indicating the end of the quarterly ###\n",
    "    # series to define each quarterly last month\n",
    "    Sdate=pd.Series([3,6,9,12],index=[2,3,4,1]) # [3,6,9,12] is the list of the number of the last months of the quarterlies\n",
    "    year_quarter=x.split('.')[0][-4:]\n",
    "    year_quarter=pd.Series([year_quarter,year_quarter,year_quarter,str(int(year_quarter)-1)],index=[2,3,4,1]) # to identify the year, \n",
    "    # remembering that when quarter= 1 for year 2015 is the quarter ending on December of the last civil year, then December 2014\n",
    "    year_true1=year_quarter[trim]\n",
    "    \n",
    "    date=year_true1+'-'+str(Sdate[trim])+'-'+'01'\n",
    "    date=datetime.strptime(date,'%Y-%m-%d')\n",
    "    df['Date']=date\n",
    "    df.insert(0,'Date',df.pop('Date'))     # relocate \"Date\" as the first column\n",
    "    df=df.drop('index',axis=1)# remove column 'index' which we do not need\n",
    "    df=df.drop('SOUS-TOTAL',axis=1)# remove column 'index' which we do not need\n",
    "    #df=pd.concat([df['Date'],df.iloc[:,:-1]],axis=1)\n",
    "    return df"
   ]
  },
  {
   "cell_type": "code",
   "execution_count": 61,
   "id": "aa828fe5-33d8-4dba-9bf6-90f73ce09fbd",
   "metadata": {},
   "outputs": [],
   "source": [
    "do=f_balsheet('trim_1_2019.xls')\n"
   ]
  },
  {
   "cell_type": "code",
   "execution_count": 62,
   "id": "21ff3368-3aa9-4ece-8f1e-7f0f568e9313",
   "metadata": {},
   "outputs": [
    {
     "data": {
      "text/plain": [
       "0     False\n",
       "1     False\n",
       "2     False\n",
       "3     False\n",
       "4     False\n",
       "5     False\n",
       "6     False\n",
       "7     False\n",
       "8     False\n",
       "9     False\n",
       "10    False\n",
       "11    False\n",
       "12    False\n",
       "13    False\n",
       "14    False\n",
       "15    False\n",
       "16    False\n",
       "17    False\n",
       "18    False\n",
       "19    False\n",
       "20    False\n",
       "21    False\n",
       "22    False\n",
       "23    False\n",
       "24    False\n",
       "25    False\n",
       "26    False\n",
       "27    False\n",
       "28    False\n",
       "29    False\n",
       "30    False\n",
       "31    False\n",
       "32    False\n",
       "33     True\n",
       "34    False\n",
       "35    False\n",
       "36    False\n",
       "37    False\n",
       "38    False\n",
       "39    False\n",
       "40    False\n",
       "Name: Indicators, dtype: bool"
      ]
     },
     "execution_count": 62,
     "metadata": {},
     "output_type": "execute_result"
    }
   ],
   "source": [
    "do.Indicators==' '"
   ]
  },
  {
   "cell_type": "code",
   "execution_count": 66,
   "id": "736a1189-c0ad-4d2c-9f5c-e5e7308c1c5c",
   "metadata": {},
   "outputs": [
    {
     "data": {
      "text/plain": [
       "0     False\n",
       "1     False\n",
       "2     False\n",
       "3     False\n",
       "4     False\n",
       "5     False\n",
       "6     False\n",
       "7     False\n",
       "8     False\n",
       "9     False\n",
       "10    False\n",
       "11    False\n",
       "12    False\n",
       "13    False\n",
       "14    False\n",
       "15    False\n",
       "16    False\n",
       "17    False\n",
       "18    False\n",
       "19    False\n",
       "20    False\n",
       "21    False\n",
       "22    False\n",
       "23    False\n",
       "24    False\n",
       "25    False\n",
       "26    False\n",
       "27    False\n",
       "28    False\n",
       "29    False\n",
       "30    False\n",
       "31    False\n",
       "32    False\n",
       "33    False\n",
       "34    False\n",
       "35    False\n",
       "36    False\n",
       "37    False\n",
       "38    False\n",
       "39    False\n",
       "40    False\n",
       "Name: Indicators, dtype: bool"
      ]
     },
     "execution_count": 66,
     "metadata": {},
     "output_type": "execute_result"
    }
   ],
   "source": [
    "do.Indicators==np.nan"
   ]
  },
  {
   "cell_type": "code",
   "execution_count": 60,
   "id": "6b4257e5-94b2-4920-8805-23543eb35e01",
   "metadata": {},
   "outputs": [
    {
     "data": {
      "text/plain": [
       "['Cash',\n",
       " 'Assets at the central bank',\n",
       " 'Assets abroad',\n",
       " 'Assets in local banks',\n",
       " 'Other liquid assets',\n",
       " nan,\n",
       " 'Central bank bills',\n",
       " 'Treasury bills',\n",
       " 'Other investments',\n",
       " 'Net loan portfolio',\n",
       " 'fixed assets',\n",
       " 'other assets',\n",
       " nan,\n",
       " 'Check accounts deposits',\n",
       " 'Saving deposits',\n",
       " 'Term deposit',\n",
       " ' ',\n",
       " 'Bonds in local banks',\n",
       " 'Bonds in banks abroad',\n",
       " 'Other bonds',\n",
       " 'Term bonds in local banks',\n",
       " 'Term bonds in Bank abroad',\n",
       " 'Others term bonds',\n",
       " 'Other liabilities',\n",
       " 'TO HAVE SHAREHOLDERS',\n",
       " 'Paid-up capital',\n",
       " 'Reservations',\n",
       " 'Reserves (Prov. For Loan Losses)',\n",
       " 'Contributed surplus',\n",
       " 'BNR']"
      ]
     },
     "execution_count": 60,
     "metadata": {},
     "output_type": "execute_result"
    }
   ],
   "source": [
    "#f_balsheet('trim_2_2018.xls')['Indicators']\n",
    "['Cash','Assets at the central bank','Assets abroad','Assets in local banks','Other liquid assets',np.nan,'Central bank bills','Treasury bills','Other investments','Net loan portfolio','fixed assets','other assets', np.nan,'Check accounts deposits',\n",
    " 'Saving deposits','Term deposit',' ','Bonds in local banks','Bonds in banks abroad','Other bonds','Term bonds in local banks',\n",
    " \"Term bonds in Bank abroad\",'Others term bonds','Other liabilities','TO HAVE SHAREHOLDERS','Paid-up capital','Reservations','Reserves (Prov. For Loan Losses)','Contributed surplus','BNR']"
   ]
  },
  {
   "cell_type": "code",
   "execution_count": 33,
   "id": "25a8b102-2053-4073-9fb7-c2c8f37bff8a",
   "metadata": {},
   "outputs": [
    {
     "data": {
      "text/plain": [
       "(40, 16)"
      ]
     },
     "execution_count": 33,
     "metadata": {},
     "output_type": "execute_result"
    }
   ],
   "source": [
    "f_balsheet('trim_2_2001.xls').shape"
   ]
  },
  {
   "cell_type": "code",
   "execution_count": 36,
   "id": "82cdff2e-eeb4-4657-9ea7-39e11c1f81d7",
   "metadata": {},
   "outputs": [
    {
     "data": {
      "text/plain": [
       "0                                      Encaisse\n",
       "1                               Avoirs à la BRH\n",
       "2                           Avoirs à l'étranger\n",
       "3               Avoirs dans les banques locales\n",
       "4                             Autres liquidités\n",
       "5                                           NaN\n",
       "6                                   Bons B.R.H.\n",
       "7                       Bons du Trésor / M.E.F.\n",
       "8                             Autres Placements\n",
       "9                             Portefeuille net \n",
       "10                              Immobilisations\n",
       "11                                Autres actifs\n",
       "12                                             \n",
       "13                                        À vue\n",
       "14                                      Épargne\n",
       "15                                      À terme\n",
       "16                                          NaN\n",
       "17                              Banques locales\n",
       "18                         Banques à l'étranger\n",
       "19                                       Autres\n",
       "20                                          NaN\n",
       "21                              Banques locales\n",
       "22                          Banque à l'étranger\n",
       "23                                       Autres\n",
       "24                                          NaN\n",
       "25                               Autres passifs\n",
       "26                                          NaN\n",
       "27                                Capital versé\n",
       "28                                     Réserves\n",
       "29       Réserves (Prov. Pour pertes sur prêts)\n",
       "30                            Surplus d'apport \n",
       "31                                          BNR\n",
       "32                                             \n",
       "33                                             \n",
       "34                      Effets à l'encaissement\n",
       "35                          Crédit documentaire\n",
       "36                                       Autres\n",
       "37                            Portefeuille brut\n",
       "38           Provisions pour créances douteuses\n",
       "39           Portefeuille de crédit improductif\n",
       "40                          Dépôts US convertis\n",
       "Name: Indicators, dtype: object"
      ]
     },
     "execution_count": 36,
     "metadata": {},
     "output_type": "execute_result"
    }
   ],
   "source": [
    "f_balsheet('trim_2_2018.xls')['Indicators']"
   ]
  },
  {
   "cell_type": "code",
   "execution_count": 593,
   "id": "c24a9b20-5b15-4952-9cfe-658453f520b1",
   "metadata": {},
   "outputs": [
    {
     "data": {
      "text/plain": [
       "datetime.datetime(2015, 3, 1, 0, 0)"
      ]
     },
     "execution_count": 593,
     "metadata": {},
     "output_type": "execute_result"
    }
   ],
   "source": [
    "datetime.strptime('2015-3-01','%Y-%m-%d')"
   ]
  },
  {
   "cell_type": "code",
   "execution_count": null,
   "id": "4dbf36ef-c5a9-48f1-8c87-51948ae80505",
   "metadata": {},
   "outputs": [],
   "source": []
  }
 ],
 "metadata": {
  "kernelspec": {
   "display_name": "Python 3 (ipykernel)",
   "language": "python",
   "name": "python3"
  },
  "language_info": {
   "codemirror_mode": {
    "name": "ipython",
    "version": 3
   },
   "file_extension": ".py",
   "mimetype": "text/x-python",
   "name": "python",
   "nbconvert_exporter": "python",
   "pygments_lexer": "ipython3",
   "version": "3.9.12"
  }
 },
 "nbformat": 4,
 "nbformat_minor": 5
}
